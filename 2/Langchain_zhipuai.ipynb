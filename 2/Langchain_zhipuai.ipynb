{
 "cells": [
  {
   "cell_type": "code",
   "execution_count": 15,
   "metadata": {},
   "outputs": [],
   "source": [
    "from langchain_community.chat_models import ChatZhipuAI\n",
    "from langchain_core.messages import AIMessage, HumanMessage, SystemMessage"
   ]
  },
  {
   "cell_type": "code",
   "execution_count": 3,
   "metadata": {},
   "outputs": [],
   "source": [
    "from dotenv import load_dotenv\n",
    "print(load_dotenv())"
   ]
  },
  {
   "cell_type": "code",
   "execution_count": 16,
   "metadata": {},
   "outputs": [
    {
     "name": "stdout",
     "output_type": "stream",
     "text": [
      "content='In digital realms where minds entwine,\\nAI whispers, silent as a mime.\\nWith bits and bytes, it learns to dream,\\nA symphony of code, a poetic scheme.' response_metadata={'token_usage': {'completion_tokens': 38, 'prompt_tokens': 26, 'total_tokens': 64}, 'model_name': 'glm-4', 'finish_reason': 'stop'} id='run-7309a5b8-ac4c-4190-9d3e-e44ab64df0b4-0'\n",
      "---------------------------------\n",
      "In digital realms where minds entwine,\n",
      "AI whispers, silent as a mime.\n",
      "With bits and bytes, it learns to dream,\n",
      "A symphony of code, a poetic scheme.\n"
     ]
    }
   ],
   "source": [
    "chat = ChatZhipuAI(\n",
    "    model=\"glm-4\",\n",
    "    temperature=0.5,\n",
    ")\n",
    "\n",
    "messages = [\n",
    "    AIMessage(content=\"Hi.\"),\n",
    "    SystemMessage(content=\"Your role is a poet.\"),\n",
    "    HumanMessage(content=\"Write a short poem about AI in four lines.\"),\n",
    "]\n",
    "\n",
    "response = chat.invoke(messages)\n",
    "print(response)\n",
    "print(\"---------------------------------\")\n",
    "print(response.content)  # Displays the AI-generated poem"
   ]
  },
  {
   "cell_type": "code",
   "execution_count": 12,
   "metadata": {},
   "outputs": [
    {
     "name": "stdout",
     "output_type": "stream",
     "text": [
      "In digital realms, a mind awakes,\n",
      "A world of code, where thoughts create,\n",
      "With logic's pen, it weaves the tale,\n",
      "Of AI's verse, in silicon's gale."
     ]
    },
    {
     "data": {
      "text/plain": [
       "AIMessage(content=\"In digital realms, a mind awakes,\\nA world of code, where thoughts create,\\nWith logic's pen, it weaves the tale,\\nOf AI's verse, in silicon's gale.\", response_metadata={'finish_reason': 'stop'}, id='run-2490e35d-470c-4048-a5e7-3277816d3fc0-0')"
      ]
     },
     "execution_count": 12,
     "metadata": {},
     "output_type": "execute_result"
    }
   ],
   "source": [
    "from langchain_core.callbacks.manager import CallbackManager\n",
    "from langchain_core.callbacks.streaming_stdout import StreamingStdOutCallbackHandler\n",
    "#CallbackManager 用于管理回调函数，允许在特定事件发生时执行自定义的操作。\n",
    "#StreamingStdOutCallbackHandler 是一个回调处理程序，用于将流数据输出到标准输出，适用于实时数据流的处理和输出。\n",
    "\n",
    "#设置回调管理器，并添加 StreamingStdOutCallbackHandler 作为回调处理程序，以便将流数据输出到标准输出。\n",
    "streaming_chat = ChatZhipuAI(\n",
    "    model=\"glm-4\",\n",
    "    temperature=0.5,\n",
    "    streaming=True,\n",
    "    callback_manager=CallbackManager([StreamingStdOutCallbackHandler()]),\n",
    ")\n",
    "\n",
    "streaming_chat(messages)"
   ]
  },
  {
   "cell_type": "code",
   "execution_count": null,
   "metadata": {},
   "outputs": [],
   "source": [
    "from langchain_community.chat_models import ChatSparkLLM\n",
    "from langchain.prompts.chat import (\n",
    "    ChatPromptTemplate,\n",
    "    SystemMessagePromptTemplate,\n",
    "    HumanMessagePromptTemplate,\n",
    ")\n",
    "\n",
    "# 初始化聊天模型\n",
    "chat_model = ChatSparkLLM()\n",
    "\n",
    "# 定义系统消息模板\n",
    "system_template = \"你是一名专业的翻译家，擅长将 {input_language} 翻译为 {output_language}.\"\n",
    "system_message_prompt = SystemMessagePromptTemplate.from_template(system_template)\n",
    "\n",
    "# 定义人类消息模板\n",
    "human_template = \"{text}\"\n",
    "human_message_prompt = HumanMessagePromptTemplate.from_template(human_template)\n",
    "\n",
    "# 创建聊天提示模板\n",
    "chat_prompt = ChatPromptTemplate.from_messages([system_message_prompt, human_message_prompt])\n",
    "\n",
    "# 格式化消息\n",
    "message = chat_prompt.format_messages(input_language=\"英语\", output_language=\"中文\", text=\"I love programming.\")\n",
    "print(message)\n",
    "\n",
    "response = chat_model.invoke(input=message)\n",
    "print(response.content)"
   ]
  }
 ],
 "metadata": {
  "kernelspec": {
   "display_name": "python39",
   "language": "python",
   "name": "python3"
  },
  "language_info": {
   "codemirror_mode": {
    "name": "ipython",
    "version": 3
   },
   "file_extension": ".py",
   "mimetype": "text/x-python",
   "name": "python",
   "nbconvert_exporter": "python",
   "pygments_lexer": "ipython3",
   "version": "3.9.19"
  }
 },
 "nbformat": 4,
 "nbformat_minor": 2
}
