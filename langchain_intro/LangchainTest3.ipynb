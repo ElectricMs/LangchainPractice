{
 "cells": [
  {
   "cell_type": "code",
   "execution_count": null,
   "metadata": {},
   "outputs": [],
   "source": [
    "##Installing the langchain packages needed to use the integration\n",
    "%pip install -qU langchain-community"
   ]
  },
  {
   "cell_type": "code",
   "execution_count": null,
   "metadata": {},
   "outputs": [],
   "source": [
    "%pip install langchain-wenxin"
   ]
  },
  {
   "cell_type": "code",
   "execution_count": null,
   "metadata": {},
   "outputs": [],
   "source": [
    "pip cache purge"
   ]
  },
  {
   "cell_type": "code",
   "execution_count": null,
   "metadata": {},
   "outputs": [],
   "source": [
    "pip install qianfan"
   ]
  },
  {
   "cell_type": "code",
   "execution_count": null,
   "metadata": {},
   "outputs": [],
   "source": [
    "import langchain_community as lc\n",
    "\"\"\"For basic init and call\"\"\"\n",
    "\n",
    "\n",
    "from langchain_community.llms import QianfanLLMEndpoint\n",
    "\n",
    "\n",
    "\n",
    "llm = QianfanLLMEndpoint(qianfan_ak=os.environ[\"QIANFAN_AK\"], qianfan_sk=os.environ[\"QIANFAN_SK\"], streaming=True)\n",
    "\n",
    "res = llm.invoke(\"hi\")\n",
    "print(res)\n"
   ]
  },
  {
   "cell_type": "code",
   "execution_count": null,
   "metadata": {},
   "outputs": [],
   "source": [
    "\n",
    "import os\n",
    "import qianfan\n",
    "\n",
    "#【推荐】使用安全认证AK/SK鉴权，通过环境变量初始化认证信息\n",
    "# 替换下列示例中参数，安全认证Access Key替换your_iam_ak，Secret Key替换your_iam_sk\n",
    "\n",
    "\n",
    "chat_comp = qianfan.ChatCompletion()\n",
    "\n",
    "# 指定特定模型\n",
    "resp = chat_comp.do(model=\"ERNIE-3.5-8K\", messages=[{\n",
    "    \"role\": \"user\",\n",
    "    \"content\": \"你这个模型好难用\"\n",
    "}])\n",
    "\n",
    "print(resp[\"body\"])"
   ]
  }
 ],
 "metadata": {
  "kernelspec": {
   "display_name": "base",
   "language": "python",
   "name": "python3"
  },
  "language_info": {
   "codemirror_mode": {
    "name": "ipython",
    "version": 3
   },
   "file_extension": ".py",
   "mimetype": "text/x-python",
   "name": "python",
   "nbconvert_exporter": "python",
   "pygments_lexer": "ipython3",
   "version": "3.12.4"
  }
 },
 "nbformat": 4,
 "nbformat_minor": 2
}
