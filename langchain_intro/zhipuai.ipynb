{
 "cells": [
  {
   "cell_type": "code",
   "execution_count": 1,
   "metadata": {},
   "outputs": [
    {
     "name": "stdout",
     "output_type": "stream",
     "text": [
      "Collecting zhipuaiNote: you may need to restart the kernel to use updated packages.\n",
      "\n",
      "  Downloading zhipuai-2.1.1.20240620.1-py3-none-any.whl.metadata (9.9 kB)\n",
      "Requirement already satisfied: cachetools>=4.2.2 in d:\\software\\anaconda3\\lib\\site-packages (from zhipuai) (5.3.3)\n",
      "Requirement already satisfied: httpx>=0.23.0 in d:\\software\\anaconda3\\lib\\site-packages (from zhipuai) (0.26.0)\n",
      "Requirement already satisfied: openpyxl>=3.1.0 in d:\\software\\anaconda3\\lib\\site-packages (from zhipuai) (3.1.2)\n",
      "Requirement already satisfied: pandas>=1.0.0 in d:\\software\\anaconda3\\lib\\site-packages (from zhipuai) (2.2.2)\n",
      "Requirement already satisfied: pydantic<3.0,>=1.9.0 in d:\\software\\anaconda3\\lib\\site-packages (from zhipuai) (2.8.0)\n",
      "Requirement already satisfied: pydantic-core>=2.14.6 in d:\\software\\anaconda3\\lib\\site-packages (from zhipuai) (2.20.0)\n",
      "Requirement already satisfied: pyjwt<2.9.0,>=2.8.0 in d:\\software\\anaconda3\\lib\\site-packages (from zhipuai) (2.8.0)\n",
      "Requirement already satisfied: anyio in d:\\software\\anaconda3\\lib\\site-packages (from httpx>=0.23.0->zhipuai) (4.2.0)\n",
      "Requirement already satisfied: certifi in d:\\software\\anaconda3\\lib\\site-packages (from httpx>=0.23.0->zhipuai) (2024.6.2)\n",
      "Requirement already satisfied: httpcore==1.* in d:\\software\\anaconda3\\lib\\site-packages (from httpx>=0.23.0->zhipuai) (1.0.2)\n",
      "Requirement already satisfied: idna in d:\\software\\anaconda3\\lib\\site-packages (from httpx>=0.23.0->zhipuai) (3.7)\n",
      "Requirement already satisfied: sniffio in d:\\software\\anaconda3\\lib\\site-packages (from httpx>=0.23.0->zhipuai) (1.3.0)\n",
      "Requirement already satisfied: h11<0.15,>=0.13 in d:\\software\\anaconda3\\lib\\site-packages (from httpcore==1.*->httpx>=0.23.0->zhipuai) (0.14.0)\n",
      "Requirement already satisfied: et-xmlfile in d:\\software\\anaconda3\\lib\\site-packages (from openpyxl>=3.1.0->zhipuai) (1.1.0)\n",
      "Requirement already satisfied: numpy>=1.26.0 in d:\\software\\anaconda3\\lib\\site-packages (from pandas>=1.0.0->zhipuai) (1.26.4)\n",
      "Requirement already satisfied: python-dateutil>=2.8.2 in d:\\software\\anaconda3\\lib\\site-packages (from pandas>=1.0.0->zhipuai) (2.9.0.post0)\n",
      "Requirement already satisfied: pytz>=2020.1 in d:\\software\\anaconda3\\lib\\site-packages (from pandas>=1.0.0->zhipuai) (2024.1)\n",
      "Requirement already satisfied: tzdata>=2022.7 in d:\\software\\anaconda3\\lib\\site-packages (from pandas>=1.0.0->zhipuai) (2023.3)\n",
      "Requirement already satisfied: annotated-types>=0.4.0 in d:\\software\\anaconda3\\lib\\site-packages (from pydantic<3.0,>=1.9.0->zhipuai) (0.6.0)\n",
      "Requirement already satisfied: typing-extensions>=4.6.1 in d:\\software\\anaconda3\\lib\\site-packages (from pydantic<3.0,>=1.9.0->zhipuai) (4.11.0)\n",
      "Requirement already satisfied: six>=1.5 in d:\\software\\anaconda3\\lib\\site-packages (from python-dateutil>=2.8.2->pandas>=1.0.0->zhipuai) (1.16.0)\n",
      "Downloading zhipuai-2.1.1.20240620.1-py3-none-any.whl (82 kB)\n",
      "   ---------------------------------------- 0.0/82.7 kB ? eta -:--:--\n",
      "   ---- ----------------------------------- 10.2/82.7 kB ? eta -:--:--\n",
      "   --------- ------------------------------ 20.5/82.7 kB 222.6 kB/s eta 0:00:01\n",
      "   --------- ------------------------------ 20.5/82.7 kB 222.6 kB/s eta 0:00:01\n",
      "   --------- ------------------------------ 20.5/82.7 kB 222.6 kB/s eta 0:00:01\n",
      "   ------------------- -------------------- 41.0/82.7 kB 219.4 kB/s eta 0:00:01\n",
      "   ---------------------------------------- 82.7/82.7 kB 387.4 kB/s eta 0:00:00\n",
      "Installing collected packages: zhipuai\n",
      "Successfully installed zhipuai-2.1.1.20240620.1\n"
     ]
    }
   ],
   "source": [
    "pip install zhipuai"
   ]
  },
  {
   "cell_type": "code",
   "execution_count": 13,
   "metadata": {},
   "outputs": [
    {
     "data": {
      "text/plain": [
       "True"
      ]
     },
     "execution_count": 13,
     "metadata": {},
     "output_type": "execute_result"
    }
   ],
   "source": [
    "from zhipuai import ZhipuAI\n",
    "from dotenv import load_dotenv\n",
    "load_dotenv()"
   ]
  },
  {
   "cell_type": "code",
   "execution_count": 14,
   "metadata": {},
   "outputs": [
    {
     "name": "stdout",
     "output_type": "stream",
     "text": [
      "ChoiceDelta(content='你好', role='assistant', tool_calls=None)\n",
      "ChoiceDelta(content='！', role='assistant', tool_calls=None)\n",
      "ChoiceDelta(content='我是一个', role='assistant', tool_calls=None)\n",
      "ChoiceDelta(content='名为', role='assistant', tool_calls=None)\n",
      "ChoiceDelta(content='智', role='assistant', tool_calls=None)\n",
      "ChoiceDelta(content='谱', role='assistant', tool_calls=None)\n",
      "ChoiceDelta(content='清', role='assistant', tool_calls=None)\n",
      "ChoiceDelta(content='言', role='assistant', tool_calls=None)\n",
      "ChoiceDelta(content='的人工', role='assistant', tool_calls=None)\n",
      "ChoiceDelta(content='智能', role='assistant', tool_calls=None)\n",
      "ChoiceDelta(content='助手', role='assistant', tool_calls=None)\n",
      "ChoiceDelta(content='，', role='assistant', tool_calls=None)\n",
      "ChoiceDelta(content='基于', role='assistant', tool_calls=None)\n",
      "ChoiceDelta(content='智', role='assistant', tool_calls=None)\n",
      "ChoiceDelta(content='谱', role='assistant', tool_calls=None)\n",
      "ChoiceDelta(content='AI', role='assistant', tool_calls=None)\n",
      "ChoiceDelta(content='公司的', role='assistant', tool_calls=None)\n",
      "ChoiceDelta(content='Chat', role='assistant', tool_calls=None)\n",
      "ChoiceDelta(content='GL', role='assistant', tool_calls=None)\n",
      "ChoiceDelta(content='M', role='assistant', tool_calls=None)\n",
      "ChoiceDelta(content='模型', role='assistant', tool_calls=None)\n",
      "ChoiceDelta(content='开发', role='assistant', tool_calls=None)\n",
      "ChoiceDelta(content='。', role='assistant', tool_calls=None)\n",
      "ChoiceDelta(content='很高兴', role='assistant', tool_calls=None)\n",
      "ChoiceDelta(content='见到', role='assistant', tool_calls=None)\n",
      "ChoiceDelta(content='你', role='assistant', tool_calls=None)\n",
      "ChoiceDelta(content='，', role='assistant', tool_calls=None)\n",
      "ChoiceDelta(content='欢迎', role='assistant', tool_calls=None)\n",
      "ChoiceDelta(content='问我', role='assistant', tool_calls=None)\n",
      "ChoiceDelta(content='任何', role='assistant', tool_calls=None)\n",
      "ChoiceDelta(content='问题', role='assistant', tool_calls=None)\n",
      "ChoiceDelta(content='。', role='assistant', tool_calls=None)\n",
      "ChoiceDelta(content='', role='assistant', tool_calls=None)\n"
     ]
    }
   ],
   "source": [
    "#Python SDK 创建 Client\n",
    "#已经将接口鉴权封装到 SDK，只需按照 SDK 调用示例填写 API Key 即可\n",
    "\n",
    "client = ZhipuAI() \n",
    "response = client.chat.completions.create(\n",
    "  model=\"glm-4\",  # 填写需要调用的模型名称\n",
    "    messages=[\n",
    "        {\"role\": \"user\", \"content\": \"你好！你叫什么名字\"},\n",
    "    ],\n",
    "    stream=True,\n",
    "    )\n",
    "for chunk in response:\n",
    "    print(chunk.choices[0].delta)"
   ]
  },
  {
   "cell_type": "code",
   "execution_count": 15,
   "metadata": {},
   "outputs": [
    {
     "name": "stdout",
     "output_type": "stream",
     "text": [
      "CompletionMessage(content='\"精准智能，创想成真 —— 智谱AI，链接思维与未来。\"', role='assistant', tool_calls=None)\n"
     ]
    }
   ],
   "source": [
    "#同步调用\n",
    "#调用后即可一次性获得最终结果\n",
    "\n",
    "client = ZhipuAI()\n",
    "response = client.chat.completions.create(\n",
    "    model=\"glm-4\",  # 填写需要调用的模型名称\n",
    "    messages=[\n",
    "        {\"role\": \"user\", \"content\": \"作为一名营销专家，请为我的产品创作一个吸引人的slogan\"},\n",
    "        {\"role\": \"assistant\", \"content\": \"当然，为了创作一个吸引人的slogan，请告诉我一些关于您产品的信息\"},\n",
    "        {\"role\": \"user\", \"content\": \"智谱AI开放平台\"},\n",
    "        {\"role\": \"assistant\", \"content\": \"智启未来，谱绘无限一智谱AI，让创新触手可及!\"},\n",
    "        {\"role\": \"user\", \"content\": \"创造一个更精准、吸引人的slogan\"}\n",
    "    ],\n",
    ")\n",
    "print(response.choices[0].message)"
   ]
  },
  {
   "cell_type": "code",
   "execution_count": 17,
   "metadata": {},
   "outputs": [
    {
     "name": "stdout",
     "output_type": "stream",
     "text": [
      "AsyncTaskStatus(id='313117199195228798804448211213378070', request_id='8804448211213378069', model='glm-4', task_status='PROCESSING')\n"
     ]
    }
   ],
   "source": [
    "#异步调用\n",
    "#调用后会立即返回一个任务 ID，然后用任务ID查询调用结果\n",
    "# 根据模型和参数的不同，通常需要等待10-30秒才能得到最终结果\n",
    "\n",
    "client = ZhipuAI() \n",
    "response = client.chat.asyncCompletions.create(\n",
    "    model=\"glm-4\",  # 填写需要调用的模型名称\n",
    "    messages=[\n",
    "        {\n",
    "            \"role\": \"user\",\n",
    "            \"content\": \"请你作为童话故事大王，写一篇短篇童话故事，故事的主题是要永远保持一颗善良的心，要能够激发儿童的学习兴趣和想象力，同时也能够帮助儿童更好地理解和接受故事中所蕴含的道理和价值观。\"\n",
    "        }\n",
    "    ],\n",
    ")\n",
    "print(response)"
   ]
  },
  {
   "cell_type": "code",
   "execution_count": 20,
   "metadata": {},
   "outputs": [
    {
     "name": "stdout",
     "output_type": "stream",
     "text": [
      "土星是太阳系中的第六颗行星，按离太阳的距离排列，位于水星、金星、地球、火星和木星之后，天王星和海王星之前。以下是关于土星的一些基本信息：\n",
      "\n",
      "大小：\n",
      "- 土星是太阳系中仅次于木星的第二大行星，其直径大约为120,536公里，大约是地球直径的9.5倍。\n",
      "- 土星的体积十分庞大，大约可以容纳760个地球。\n",
      "\n",
      "组成：\n",
      "- 土星是一个气体巨行星，主要由氢和氦组成，其质量大约是地球质量的95倍。\n",
      "- 它的密度非常低，甚至比水的密度还小，是太阳系中密度最低的行星。\n",
      "\n",
      "环系统：\n",
      "- 土星以其壮观的环系统而闻名，这些环由冰颗粒、岩石碎片和尘埃组成，环绕着行星的赤道。\n",
      "- 土星的环至少有8个，它们以不同的宽度、间距和亮度展现出来，通过中等大小的望远镜就能观察到。\n",
      "- 环系统的存在让土星获得了“指环王”的美誉。\n",
      "\n",
      "独特的天文现象：\n",
      "- 月掩土星：当月球从地球观察的角度经过土星前方，掩住土星的现象。不过，这一现象并不经常发生，且并非全球都能观测到。\n",
      "- 冲日：土星、地球和太阳处在一条直线上，从地球上看起来，土星和太阳的黄经相差180度。这时土星整夜可见，是观测土星的最佳时期。\n",
      "- 土星环面倾斜：土星的环面相对于其轨道面有明显的倾斜，这使得在不同的观测角度，环的可见性和外观都会有所变化。\n",
      "\n",
      "探索：\n",
      "- 土星已被多个太空探测器访问，其中最著名的是卡西尼号探测器。它于2004年进入土星轨道，对土星及其卫星和环系统进行了长达13年的详细观察和研究。\n",
      "\n",
      "这些信息综合起来，揭示了土星作为太阳系中一个令人着迷的天体，其独特的性质和复杂结构吸引了无数天文爱好者和科学家的关注。"
     ]
    }
   ],
   "source": [
    "#SSE 调用\n",
    "#调用后可以流式的实时获取到结果直到结束\n",
    "\n",
    "client = ZhipuAI()\n",
    "response = client.chat.completions.create(\n",
    "    model=\"glm-4\",  # 填写需要调用的模型名称\n",
    "    messages=[\n",
    "        {\"role\": \"system\", \"content\": \"你是一个乐于解答各种问题的助手，你的任务是为用户提供专业、准确、有见地的建议。\"},\n",
    "        {\"role\": \"user\", \"content\": \"我对太阳系的行星非常感兴趣，特别是土星。请提供关于土星的基本信息，包括其大小、组成、环系统和任何独特的天文现象。\"},\n",
    "    ],\n",
    "    stream=True,\n",
    ")\n",
    "for chunk in response:\n",
    "    print(chunk.choices[0].delta.content,end='')\n",
    "    "
   ]
  }
 ],
 "metadata": {
  "kernelspec": {
   "display_name": "base",
   "language": "python",
   "name": "python3"
  },
  "language_info": {
   "codemirror_mode": {
    "name": "ipython",
    "version": 3
   },
   "file_extension": ".py",
   "mimetype": "text/x-python",
   "name": "python",
   "nbconvert_exporter": "python",
   "pygments_lexer": "ipython3",
   "version": "3.12.4"
  }
 },
 "nbformat": 4,
 "nbformat_minor": 2
}
