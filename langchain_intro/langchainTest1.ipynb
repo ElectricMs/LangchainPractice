{
 "cells": [
  {
   "cell_type": "code",
   "execution_count": 2,
   "metadata": {},
   "outputs": [
    {
     "name": "stdout",
     "output_type": "stream",
     "text": [
      "True\n"
     ]
    }
   ],
   "source": [
    "from dotenv import load_dotenv\n",
    "print(load_dotenv())"
   ]
  },
  {
   "cell_type": "code",
   "execution_count": 12,
   "metadata": {},
   "outputs": [
    {
     "name": "stdout",
     "output_type": "stream",
     "text": [
      "Response:Hello! How can I assist you today? If you have any questions or need information on a topic, feel free to ask.\n"
     ]
    },
    {
     "data": {
      "text/plain": [
       "\"Choosing a name for a company that makes colorful socks is both fun and challenging. You'll want a name that's memorable, conveys the essence of your product, and stands out in the market. Here are a few suggestions:\\n\\n1. **Vivid Steps**\\n2. **Chroma Sox Co.**\\n3. **Rainbow Feet**\\n4. **ColorPulse Socks**\\n5. **Socktastic Hues**\\n6. **Burst of Color Socks**\\n7. **Joyful Footprints**\\n8. **Spectrum Socks**\\n9. **ColorfulStride Co.**\\n10. **Painted Steps Socks**\\n11. **Mosaic Sox**\\n12. **Crayon Kicks**\\n13. **Splendid Sockery**\\n14. **Multihue Footwear**\\n15. **Radiant Sox**\\n16. **ColorFusion Socks**\\n17. **Happy Hue Hikers**\\n18. **SockArt Studio**\\n19. **Tinted Toes**\\n20. **Brilliant Feet**\\n\\nWhen choosing a name, consider the following:\\n\\n- **Domain Availability**: Check if the domain name is available for your chosen name. A `.com` domain is often preferred for global credibility.\\n- **Trademark Search**: Ensure that the name isn't already trademarked by another company.\\n- **Memorability**: A good name should be easy to remember, pronounce, and spell.\\n- **Relevance**: The name should be relevant to the products you're selling.\\n- **Emotional Connection**: The name should evoke positive emotions and connect with your target audience.\\n- **Scalability**: Choose a name that doesn't limit your product line to just socks if you plan to expand in the future.\\n\\nOnce you have a shortlist of potential names, you might want to get feedback from potential customers, friends, or colleagues to see which one resonates the most.\""
      ]
     },
     "execution_count": 12,
     "metadata": {},
     "output_type": "execute_result"
    }
   ],
   "source": [
    "from langchain_openai import ChatOpenAI\n",
    "#from langchain.chat_models import ChatOpenAI\n",
    "#这两个是等价的\n",
    "chat_model=ChatOpenAI(\n",
    "    model=\"glm-4\",\n",
    "    openai_api_base=\"https://open.bigmodel.cn/api/paas/v4/\",\n",
    "    temperature=0.5,\n",
    "    streaming=True#目前还没用，输出方式不对。在启用流式输出时，通常需要使用能够处理流式数据的方法或接口\n",
    ")\n",
    "#chat_model.invoke(\"hi\")\n",
    "print(\"Response:\"+chat_model.invoke(\"hi\").content)\n",
    "#如果使用chat_model.predict(\"hi\")会有下面的警告\n",
    "#LangChainDeprecationWarning: The method `BaseChatModel.predict` was deprecated in \n",
    "# #langchain-core 0.1.7 and will be removed in 0.3.0. Use invoke instead.\n",
    "\n"
   ]
  },
  {
   "cell_type": "code",
   "execution_count": 14,
   "metadata": {},
   "outputs": [
    {
     "data": {
      "text/plain": [
       "\"Choosing a name for a company that makes colorful socks is both exciting and important for branding. The name should be catchy, memorable, and reflect the playful and vibrant nature of the product. Here are some suggestions:\\n\\n1. ColorCraze Socks\\n2. SockSpectrum\\n3. Vibrant Steps\\n4. HueHuggers\\n5. ToeTrotters Colorful Socks\\n6. SockArtistry\\n7. Kaleidosocke\\n8. ColorPoppin' Socks\\n9. FootFiesta Socks\\n10. ChromaCuffs\\n11. SockScapes\\n12. BrightenUp Socks\\n13. Polychrome Peds\\n14. Sockavanza\\n15. RazzleDazzle Socks\\n16. ColorBurst Socks\\n17. Joyful Soles\\n18. SockTsunami\\n19. LivelyLeggings\\n20. Multihue Mates\\n\\nWhen choosing a name, consider the following:\\n\\n- Is the domain name available?\\n- Does the name resonate with your target market?\\n- Is it unique and not easily confused with other brands?\\n- Does it suggest the product (colorful socks) without being too literal?\\n\\nOnce you have a shortlist of potential names, you might want to get feedback from potential customers or run a trademark search to ensure it's not already in use.\""
      ]
     },
     "execution_count": 14,
     "metadata": {},
     "output_type": "execute_result"
    }
   ],
   "source": [
    "#使用predict方法对字符串输入进行处理\n",
    "text = \"What would be a good company name for a company that makes colorful socks?\"\n",
    "chat_model.predict(text)\n",
    "#输出内容会带\\n这种"
   ]
  },
  {
   "cell_type": "code",
   "execution_count": 15,
   "metadata": {},
   "outputs": [
    {
     "data": {
      "text/plain": [
       "AIMessage(content='为一家制造多彩袜子的公司起名，可以考虑以下几个富有创意和吸引力的名字：\\n\\n1. 彩织纷飞\\n2. 足下彩虹\\n3. 织色天下\\n4. 彩梦袜语\\n5. 踏彩而来\\n6. 彩织传奇\\n7. 色彩足迹\\n8. 梦幻袜界\\n9. 彩袜精灵\\n10. 足尖上的艺术\\n\\n这些名字都能体现出公司产品的特点，同时具有较好的寓意和传播效果。您可以根据自己的喜好和公司定位选择一个合适的名字。', response_metadata={'finish_reason': 'stop', 'model_name': 'glm-4'}, id='run-4db0fb75-854f-4e26-a1e3-3fa9dcb5e6fb-0')"
      ]
     },
     "execution_count": 15,
     "metadata": {},
     "output_type": "execute_result"
    }
   ],
   "source": [
    "#使用predict_messages方法对消息列表进行处理\n",
    "from langchain.schema import HumanMessage\n",
    "\n",
    "text = \"制造多彩袜子的公司的好名字是什么？\"\n",
    "messages = [HumanMessage(content=text)]\n",
    "\n",
    "chat_model.predict_messages(messages)#相比单纯的predict可以处理更加复杂的消息序列\n",
    "# >> Socks O'Color\n"
   ]
  },
  {
   "cell_type": "code",
   "execution_count": 17,
   "metadata": {},
   "outputs": [
    {
     "data": {
      "text/plain": [
       "'What is a good name for a company that makes colorful socks?'"
      ]
     },
     "execution_count": 17,
     "metadata": {},
     "output_type": "execute_result"
    }
   ],
   "source": [
    "from langchain.prompts import PromptTemplate\n",
    "\n",
    "prompt = PromptTemplate.from_template(\"What is a good name for a company that makes {product}?\")\n",
    "prompt.format(product=\"colorful socks\")#Format the prompt with the inputs.  format:格式，格式化"
   ]
  },
  {
   "cell_type": "code",
   "execution_count": 18,
   "metadata": {},
   "outputs": [
    {
     "data": {
      "text/plain": [
       "[SystemMessage(content='You are a helpful assistant that translates English to French.'),\n",
       " HumanMessage(content='I love programming.')]"
      ]
     },
     "execution_count": 18,
     "metadata": {},
     "output_type": "execute_result"
    }
   ],
   "source": [
    "from langchain.prompts.chat import (\n",
    "    ChatPromptTemplate,\n",
    "    SystemMessagePromptTemplate,\n",
    "    HumanMessagePromptTemplate,\n",
    ")\n",
    "\n",
    "template = \"You are a helpful assistant that translates {input_language} to {output_language}.\"\n",
    "system_message_prompt = SystemMessagePromptTemplate.from_template(template)\n",
    "human_template = \"{text}\"\n",
    "human_message_prompt = HumanMessagePromptTemplate.from_template(human_template)\n",
    "#ChatpromptTemplate将上面的拼接起来\n",
    "chat_prompt = ChatPromptTemplate.from_messages([system_message_prompt, human_message_prompt])\n",
    "chat_prompt.format_messages(input_language=\"English\", output_language=\"French\", text=\"I love programming.\")"
   ]
  },
  {
   "cell_type": "code",
   "execution_count": 19,
   "metadata": {},
   "outputs": [
    {
     "data": {
      "text/plain": [
       "['hi', 'bye']"
      ]
     },
     "execution_count": 19,
     "metadata": {},
     "output_type": "execute_result"
    }
   ],
   "source": [
    "#OutputParsers将LLM的原始输出转换为可以在下游使用的格式。输出解析器有几种主要类型，包括:\n",
    "#将LLM的文本转换为结构化信息（例如JSON）\n",
    "#将ChatMessage转换为字符串\n",
    "#将除消息之外的其他信息（如OpenAI函数调用）转换为字符串。\n",
    "\n",
    "from langchain.schema import BaseOutputParser\n",
    "#例：将逗号分隔的列表转换为列表\n",
    "class CommaSeparatedListOutputParser(BaseOutputParser):\n",
    "    \"\"\"Parse the output of an LLM call to a comma-separated list.\"\"\"\n",
    "\n",
    "    def parse(self, text: str):\n",
    "        \"\"\"Parse the output of an LLM call.\"\"\"\n",
    "        return text.strip().split(\", \")\n",
    "\n",
    "CommaSeparatedListOutputParser().parse(\"hi, bye\")\n",
    "# >> ['hi', 'bye']\n"
   ]
  },
  {
   "cell_type": "code",
   "execution_count": 25,
   "metadata": {},
   "outputs": [
    {
     "data": {
      "text/plain": [
       "['red', 'blue', 'green', 'yellow', 'purple']"
      ]
     },
     "execution_count": 25,
     "metadata": {},
     "output_type": "execute_result"
    }
   ],
   "source": [
    "#LLMChain\n",
    "#可以将所有这些组合成一个链组件。这个链组件将接收输入变量，将其传递给提示模板以创建提示，\n",
    "#将提示传递给LLM，然后通过一个（可选的）输出解析器将输出传递出去。\n",
    "#这是一种方便地将模块化逻辑捆绑在一起的方式。\n",
    "\n",
    "\"\"\"from langchain.chat_models import ChatOpenAI\n",
    "from langchain.prompts.chat import (\n",
    "    ChatPromptTemplate,\n",
    "    SystemMessagePromptTemplate,\n",
    "    HumanMessagePromptTemplate,\n",
    ")\n",
    "\n",
    "from langchain.schema import BaseOutputParser\"\"\"\n",
    "\n",
    "from langchain.chains import LLMChain\n",
    "\n",
    "class CommaSeparatedListOutputParser(BaseOutputParser):\n",
    "    \"\"\"Parse the output of an LLM call to a comma-separated list.\"\"\"\n",
    "    def parse(self, text: str):\n",
    "        \"\"\"Parse the output of an LLM call.\"\"\"\n",
    "        return text.strip().split(\", \")\n",
    "\n",
    "template = \"\"\"You are a helpful assistant who generates comma separated lists.\n",
    "A user will pass in a category, and you should generate 5 objects in that category in a comma separated list.\n",
    "ONLY return a comma separated list, and nothing more.\"\"\"\n",
    "system_message_prompt = SystemMessagePromptTemplate.from_template(template)\n",
    "human_template = \"{text}\"\n",
    "human_message_prompt = HumanMessagePromptTemplate.from_template(human_template)\n",
    "\n",
    "chat_prompt = ChatPromptTemplate.from_messages([system_message_prompt, human_message_prompt])\n",
    "chain = LLMChain(\n",
    "    llm=ChatOpenAI(\n",
    "        model=\"glm-4\",\n",
    "        openai_api_base=\"https://open.bigmodel.cn/api/paas/v4/\",\n",
    "    ),\n",
    "    prompt=chat_prompt,\n",
    "    output_parser=CommaSeparatedListOutputParser()\n",
    ")\n",
    "chain.run(\"colors\")\n",
    "# >> ['red', 'blue', 'green', 'yellow', 'orange']\n",
    "\n",
    "\n"
   ]
  },
  {
   "cell_type": "code",
   "execution_count": null,
   "metadata": {},
   "outputs": [],
   "source": []
  },
  {
   "cell_type": "code",
   "execution_count": null,
   "metadata": {},
   "outputs": [],
   "source": []
  },
  {
   "cell_type": "code",
   "execution_count": null,
   "metadata": {},
   "outputs": [],
   "source": []
  }
 ],
 "metadata": {
  "kernelspec": {
   "display_name": "base",
   "language": "python",
   "name": "python3"
  },
  "language_info": {
   "codemirror_mode": {
    "name": "ipython",
    "version": 3
   },
   "file_extension": ".py",
   "mimetype": "text/x-python",
   "name": "python",
   "nbconvert_exporter": "python",
   "pygments_lexer": "ipython3",
   "version": "3.12.4"
  }
 },
 "nbformat": 4,
 "nbformat_minor": 2
}
