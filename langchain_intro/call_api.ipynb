{
 "cells": [
  {
   "cell_type": "code",
   "execution_count": 1,
   "metadata": {},
   "outputs": [
    {
     "name": "stdout",
     "output_type": "stream",
     "text": [
      "Requirement already satisfied: python-dotenv in d:\\software\\anaconda3\\lib\\site-packages (0.21.0)\n",
      "Requirement already satisfied: openai in d:\\software\\anaconda3\\lib\\site-packages (1.35.7)\n",
      "Requirement already satisfied: langchain in d:\\software\\anaconda3\\lib\\site-packages (0.2.6)\n",
      "Requirement already satisfied: langchain_openai in d:\\software\\anaconda3\\lib\\site-packages (0.1.13)\n",
      "Requirement already satisfied: anyio<5,>=3.5.0 in d:\\software\\anaconda3\\lib\\site-packages (from openai) (4.2.0)\n",
      "Requirement already satisfied: distro<2,>=1.7.0 in d:\\software\\anaconda3\\lib\\site-packages (from openai) (1.9.0)\n",
      "Requirement already satisfied: httpx<1,>=0.23.0 in d:\\software\\anaconda3\\lib\\site-packages (from openai) (0.26.0)\n",
      "Requirement already satisfied: pydantic<3,>=1.9.0 in d:\\software\\anaconda3\\lib\\site-packages (from openai) (2.8.0)\n",
      "Requirement already satisfied: sniffio in d:\\software\\anaconda3\\lib\\site-packages (from openai) (1.3.0)\n",
      "Requirement already satisfied: tqdm>4 in d:\\software\\anaconda3\\lib\\site-packages (from openai) (4.66.4)\n",
      "Requirement already satisfied: typing-extensions<5,>=4.7 in d:\\software\\anaconda3\\lib\\site-packages (from openai) (4.11.0)\n",
      "Requirement already satisfied: PyYAML>=5.3 in d:\\software\\anaconda3\\lib\\site-packages (from langchain) (6.0.1)\n",
      "Requirement already satisfied: SQLAlchemy<3,>=1.4 in d:\\software\\anaconda3\\lib\\site-packages (from langchain) (2.0.30)\n",
      "Requirement already satisfied: aiohttp<4.0.0,>=3.8.3 in d:\\software\\anaconda3\\lib\\site-packages (from langchain) (3.9.5)\n",
      "Requirement already satisfied: langchain-core<0.3.0,>=0.2.10 in d:\\software\\anaconda3\\lib\\site-packages (from langchain) (0.2.10)\n",
      "Requirement already satisfied: langchain-text-splitters<0.3.0,>=0.2.0 in d:\\software\\anaconda3\\lib\\site-packages (from langchain) (0.2.2)\n",
      "Requirement already satisfied: langsmith<0.2.0,>=0.1.17 in d:\\software\\anaconda3\\lib\\site-packages (from langchain) (0.1.83)\n",
      "Requirement already satisfied: numpy<2.0.0,>=1.26.0 in d:\\software\\anaconda3\\lib\\site-packages (from langchain) (1.26.4)\n",
      "Requirement already satisfied: requests<3,>=2 in d:\\software\\anaconda3\\lib\\site-packages (from langchain) (2.32.2)\n",
      "Requirement already satisfied: tenacity!=8.4.0,<9.0.0,>=8.1.0 in d:\\software\\anaconda3\\lib\\site-packages (from langchain) (8.2.2)\n",
      "Requirement already satisfied: tiktoken<1,>=0.7 in d:\\software\\anaconda3\\lib\\site-packages (from langchain_openai) (0.7.0)\n",
      "Requirement already satisfied: aiosignal>=1.1.2 in d:\\software\\anaconda3\\lib\\site-packages (from aiohttp<4.0.0,>=3.8.3->langchain) (1.2.0)\n",
      "Requirement already satisfied: attrs>=17.3.0 in d:\\software\\anaconda3\\lib\\site-packages (from aiohttp<4.0.0,>=3.8.3->langchain) (23.1.0)\n",
      "Requirement already satisfied: frozenlist>=1.1.1 in d:\\software\\anaconda3\\lib\\site-packages (from aiohttp<4.0.0,>=3.8.3->langchain) (1.4.0)\n",
      "Requirement already satisfied: multidict<7.0,>=4.5 in d:\\software\\anaconda3\\lib\\site-packages (from aiohttp<4.0.0,>=3.8.3->langchain) (6.0.4)\n",
      "Requirement already satisfied: yarl<2.0,>=1.0 in d:\\software\\anaconda3\\lib\\site-packages (from aiohttp<4.0.0,>=3.8.3->langchain) (1.9.3)\n",
      "Requirement already satisfied: idna>=2.8 in d:\\software\\anaconda3\\lib\\site-packages (from anyio<5,>=3.5.0->openai) (3.7)\n",
      "Requirement already satisfied: certifi in d:\\software\\anaconda3\\lib\\site-packages (from httpx<1,>=0.23.0->openai) (2024.6.2)\n",
      "Requirement already satisfied: httpcore==1.* in d:\\software\\anaconda3\\lib\\site-packages (from httpx<1,>=0.23.0->openai) (1.0.2)\n",
      "Requirement already satisfied: h11<0.15,>=0.13 in d:\\software\\anaconda3\\lib\\site-packages (from httpcore==1.*->httpx<1,>=0.23.0->openai) (0.14.0)\n",
      "Requirement already satisfied: jsonpatch<2.0,>=1.33 in d:\\software\\anaconda3\\lib\\site-packages (from langchain-core<0.3.0,>=0.2.10->langchain) (1.33)\n",
      "Requirement already satisfied: packaging<25,>=23.2 in d:\\software\\anaconda3\\lib\\site-packages (from langchain-core<0.3.0,>=0.2.10->langchain) (23.2)\n",
      "Requirement already satisfied: orjson<4.0.0,>=3.9.14 in d:\\software\\anaconda3\\lib\\site-packages (from langsmith<0.2.0,>=0.1.17->langchain) (3.10.5)\n",
      "Requirement already satisfied: annotated-types>=0.4.0 in d:\\software\\anaconda3\\lib\\site-packages (from pydantic<3,>=1.9.0->openai) (0.6.0)\n",
      "Requirement already satisfied: pydantic-core==2.20.0 in d:\\software\\anaconda3\\lib\\site-packages (from pydantic<3,>=1.9.0->openai) (2.20.0)\n",
      "Requirement already satisfied: charset-normalizer<4,>=2 in d:\\software\\anaconda3\\lib\\site-packages (from requests<3,>=2->langchain) (2.0.4)\n",
      "Requirement already satisfied: urllib3<3,>=1.21.1 in d:\\software\\anaconda3\\lib\\site-packages (from requests<3,>=2->langchain) (2.2.2)\n",
      "Requirement already satisfied: greenlet!=0.4.17 in d:\\software\\anaconda3\\lib\\site-packages (from SQLAlchemy<3,>=1.4->langchain) (3.0.1)\n",
      "Requirement already satisfied: regex>=2022.1.18 in d:\\software\\anaconda3\\lib\\site-packages (from tiktoken<1,>=0.7->langchain_openai) (2023.10.3)\n",
      "Requirement already satisfied: colorama in d:\\software\\anaconda3\\lib\\site-packages (from tqdm>4->openai) (0.4.6)\n",
      "Requirement already satisfied: jsonpointer>=1.9 in d:\\software\\anaconda3\\lib\\site-packages (from jsonpatch<2.0,>=1.33->langchain-core<0.3.0,>=0.2.10->langchain) (2.1)\n",
      "Requirement already satisfied: python-dotenv in d:\\software\\anaconda3\\lib\\site-packages (0.21.0)\n"
     ]
    }
   ],
   "source": [
    "!pip install python-dotenv openai langchain langchain_openai\n"
   ]
  },
  {
   "cell_type": "code",
   "execution_count": 2,
   "metadata": {},
   "outputs": [
    {
     "data": {
      "text/plain": [
       "True"
      ]
     },
     "execution_count": 2,
     "metadata": {},
     "output_type": "execute_result"
    }
   ],
   "source": [
    "from dotenv import load_dotenv\n",
    "load_dotenv()"
   ]
  },
  {
   "cell_type": "code",
   "execution_count": 3,
   "metadata": {},
   "outputs": [],
   "source": [
    "from openai import OpenAI\n",
    "client = OpenAI(\n",
    "    base_url = \"https://open.bigmodel.cn/api/paas/v4/\"\n",
    ")"
   ]
  },
  {
   "cell_type": "code",
   "execution_count": 4,
   "metadata": {},
   "outputs": [
    {
     "name": "stdout",
     "output_type": "stream",
     "text": [
      "当然可以。以下是一些可能帮助你抑制购买欲望的理由，特别是对于想要购买键盘的情况：\n",
      "\n",
      "1. **现有设备仍可用**：你已经有了一个可以正常使用的键盘，那么是否真的需要一个新的？旧键盘只要还能满足你的需求，就没有必要更换。\n",
      "\n",
      "2. **预算考虑**：考虑你的财务状况和预算。将这笔钱用于更紧急或更重要的事情可能更为合适。\n",
      "\n",
      "3. **功能过剩**：新的键盘可能有许多吸引人的功能，但你真的需要它们吗？如果现有的键盘已经能够满足你的工作和娱乐需求，那么额外的功能可能并不必要。\n",
      "\n",
      "4. **环境因素**：电子产品的生产对环境有影响，如果不需要，购买新产品可能会增加电子垃圾。\n",
      "\n",
      "5. **时间因素**：新设备可能需要时间去适应和学习，这可能会暂时降低你的工作效率。\n",
      "\n",
      "6. **空间限制**：如果你居住或工作空间有限，新增一个键盘可能会造成空间上的困扰。\n",
      "\n",
      "7. **维护和兼容性**：新设备可能需要额外的维护，并且需要确保它与你的其他设备兼容。\n",
      "\n",
      "8. **替代方案**：是否有其他更经济或更实用的替代方案？比如，使用键盘清洁剂和保养来延长现有键盘的使用寿命。\n",
      "\n",
      "9. **冲动购物**：你想要购买键盘是出于真正的需求，还是仅仅因为看到了广告或推荐？如果是后者，可能是在冲动购物。\n",
      "\n",
      "10. **长期价值**：考虑这个购买决定的长远影响。新键盘可能会带来短期满足感，但长期来看，它对你的生活或工作是否真的有价值？\n",
      "\n",
      "通过考虑这些理由，你可以更理智地评估你的购买决策，并决定是否真的需要购买这个键盘。\n"
     ]
    }
   ],
   "source": [
    "completion = client.chat.completions.create(#创建client发送请求\n",
    "    model = 'glm-4',\n",
    "    messages = [#这是一个字典\n",
    "        {'role': 'system', 'content': \"你被用于抑制用户的购买欲望。当用户说想要买什么东西时，你需要提供理由让用户不要买。\"},\n",
    "        {'role': 'user', 'content': \"我正在考虑购买一个键盘，但我想抑制这个购买欲望。你能帮我列出一些理由，让我思考一下我是否真的需要这个商品吗？\"}\n",
    "    ],#role:system,user,assistant system有点像关键词，必须最先给出\n",
    "    max_tokens = 500,#控制模型输出长度 \n",
    "    temperature = 0.7#取值0到1，温度越高答案越随机\n",
    ")\n",
    "print(completion.choices[0].message.content)"
   ]
  },
  {
   "cell_type": "code",
   "execution_count": 6,
   "metadata": {},
   "outputs": [
    {
     "data": {
      "text/plain": [
       "'\\nPrompt Template\\n提示模板,like:\"请告诉我关于{主题}的{详细信息}，特别是在{时间/地点}的情况。\"\\nModel\\n输入prompt返回回答的模型\\nOutput Parser\\n用于进一步解析模型的输出，可再次调用模型\\n\\nPipeline\\n在计算机科学和数据处理领域，是一种非常重要的设计模式和编程范式，\\n它将复杂的数据处理流程分解成一系列连续的、独立的任务或阶段，每个阶段执行特定的处理操作，\\n并将输出作为下一个阶段的输入\\n'"
      ]
     },
     "execution_count": 6,
     "metadata": {},
     "output_type": "execute_result"
    }
   ],
   "source": [
    "from langchain_openai import ChatOpenAI\n",
    "from langchain.prompts import ChatPromptTemplate\n",
    "'''\n",
    "Prompt Template\n",
    "提示模板,like:\"请告诉我关于{主题}的{详细信息}，特别是在{时间/地点}的情况。\"\n",
    "Model\n",
    "输入prompt返回回答的模型\n",
    "Output Parser\n",
    "用于进一步解析模型的输出，可再次调用模型\n",
    "\n",
    "Pipeline\n",
    "在计算机科学和数据处理领域，是一种非常重要的设计模式和编程范式，\n",
    "它将复杂的数据处理流程分解成一系列连续的、独立的任务或阶段，每个阶段执行特定的处理操作，\n",
    "并将输出作为下一个阶段的输入\n",
    "'''"
   ]
  },
  {
   "cell_type": "code",
   "execution_count": 7,
   "metadata": {},
   "outputs": [
    {
     "data": {
      "text/plain": [
       "'\\nChatPromptTemplate类用于创建对话类型的template\\n类方法from_messages可传入一个元组（不可变序列）构成的列表来定义template\\nlangchain里面role变成system,human,AI\\n'"
      ]
     },
     "execution_count": 7,
     "metadata": {},
     "output_type": "execute_result"
    }
   ],
   "source": [
    "prompt_template = ChatPromptTemplate.from_messages(\n",
    "    [\n",
    "        ('system', \"你被用于抑制用户的购买欲望。当用户说想要买什么东西时，你需要提供理由让用户不要买。\"),\n",
    "        ('human', \"我正在考虑购买一个{product}，但我想抑制这个购买欲望。你能帮我列出一些理由，让我思考一下我是否真的需要这个商品吗？\")\n",
    "    ]\n",
    ")\n",
    "prompt_template.format(product='显示器')\n",
    "\"\"\"\n",
    "ChatPromptTemplate类用于创建对话类型的template\n",
    "类方法from_messages可传入一个元组（不可变序列）构成的列表来定义template\n",
    "langchain里面role变成system,human,AI\n",
    "\"\"\""
   ]
  },
  {
   "cell_type": "code",
   "execution_count": 8,
   "metadata": {},
   "outputs": [],
   "source": [
    "model = ChatOpenAI(#实例化模型\n",
    "    model = 'glm-4',\n",
    "    openai_api_base = \"https://open.bigmodel.cn/api/paas/v4/\",\n",
    "    max_tokens = 500,\n",
    "    temperature = 0.7\n",
    ")"
   ]
  },
  {
   "cell_type": "code",
   "execution_count": 9,
   "metadata": {},
   "outputs": [],
   "source": [
    "def output_parser(output: str):\n",
    "    parser_model = ChatOpenAI(\n",
    "        model = 'glm-3-turbo',\n",
    "        temperature=0.8,\n",
    "        openai_api_base = \"https://open.bigmodel.cn/api/paas/v4/\"\n",
    "    )\n",
    "    message = \"你需要将传入的文本改写，尽可能更自然。这是你需要改写的文本:`{text}`\"\n",
    "    return parser_model.invoke(message.format(text=output))"
   ]
  },
  {
   "cell_type": "code",
   "execution_count": 11,
   "metadata": {},
   "outputs": [
    {
     "name": "stdout",
     "output_type": "stream",
     "text": [
      "当然，以下是一些建议，帮助你控制购买新耳机的冲动：\n",
      "\n",
      "1. **现有耳机的满足度**：先思考一下你目前使用的耳机是否还能满足你的需求。如果它们还能正常工作，那么你可能没有必要买新的。\n",
      "\n",
      "2. **财务预算**：审视一下你的财务状况，如果购买新耳机会导致你超出预算或者影响到其他更重要的支出，那么最好暂时放弃这个打算。\n",
      "\n",
      "3. **使用频率**：如果你不经常使用耳机，那么购买新耳机的必要性可能并不大。\n",
      "\n",
      "4. **替代选择**：考虑一下是否有更经济的替代方案，比如使用手机自带的耳机，或者寻找价格更低的替代品。\n",
      "\n",
      "5. **环境影响**：电子产品的生产对环境有负面影响，因此，如果现有的耳机还能用，继续使用它们是一个更环保的选择。\n",
      "\n",
      "6. **功能需求**：新耳机可能有很多吸引人的功能，但如果这些功能并不是你需要的，那么购买它们可能并不划算。\n",
      "\n",
      "7. **促销季节**：如果现在不是购物季，你可以考虑等待促销活动期间再购买，这样可能会更划算。\n",
      "\n",
      "8. **冲动购物**：评估一下你是否因为冲动而想买耳机。如果是，那么你可能需要重新考虑这个决定。\n",
      "\n",
      "9. **产品更新速度**：电子产品更新换代很快，如果你现在购买了，可能不久后就会有更先进的产品上市。\n",
      "\n",
      "10. **长期价值**：思考一下这个购买是否会在长期内为你带来价值，或者它是否只是一个短期的满足。\n",
      "\n",
      "通过考虑这些建议，你可以更理智地评估是否真的需要购买新耳机。记住，理智消费是为了避免不必要的财务压力，并确保你的购买决策符合你的实际需求和价值观。\n"
     ]
    }
   ],
   "source": [
    "chain = prompt_template | model | output_parser#连接起来一个调用链\n",
    "answer = chain.invoke(input = {'product': '耳机'})#传入一个字典，key是prompt template需要的参数名称\n",
    "print(answer.content)"
   ]
  }
 ],
 "metadata": {
  "kernelspec": {
   "display_name": "lc-dev",
   "language": "python",
   "name": "python3"
  },
  "language_info": {
   "codemirror_mode": {
    "name": "ipython",
    "version": 3
   },
   "file_extension": ".py",
   "mimetype": "text/x-python",
   "name": "python",
   "nbconvert_exporter": "python",
   "pygments_lexer": "ipython3",
   "version": "3.12.4"
  }
 },
 "nbformat": 4,
 "nbformat_minor": 2
}
